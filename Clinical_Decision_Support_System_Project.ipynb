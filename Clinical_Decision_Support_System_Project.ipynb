{
 "cells": [
  {
   "cell_type": "code",
   "execution_count": 1,
   "metadata": {
    "colab": {
     "base_uri": "https://localhost:8080/",
     "height": 72,
     "resources": {
      "http://localhost:8080/nbextensions/google.colab/files.js": {
       "data": "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",
       "headers": [
        [
         "content-type",
         "application/javascript"
        ]
       ],
       "ok": true,
       "status": 200,
       "status_text": ""
      }
     }
    },
    "id": "tRr3d4-CoZui",
    "outputId": "bbf3fd40-a7c0-40f8-8330-a278b8368674"
   },
   "outputs": [
    {
     "data": {
      "text/html": [
       "\n",
       "     <input type=\"file\" id=\"files-3ed39e04-aae8-42e9-b239-d30cba9b4252\" name=\"files[]\" multiple disabled\n",
       "        style=\"border:none\" />\n",
       "     <output id=\"result-3ed39e04-aae8-42e9-b239-d30cba9b4252\">\n",
       "      Upload widget is only available when the cell has been executed in the\n",
       "      current browser session. Please rerun this cell to enable.\n",
       "      </output>\n",
       "      <script src=\"/nbextensions/google.colab/files.js\"></script> "
      ],
      "text/plain": [
       "<IPython.core.display.HTML object>"
      ]
     },
     "metadata": {
      "tags": []
     },
     "output_type": "display_data"
    },
    {
     "name": "stdout",
     "output_type": "stream",
     "text": [
      "Saving projectDataset.csv to projectDataset.csv\n"
     ]
    }
   ],
   "source": [
    "#Stephen Chikumbu R195933F\n",
    "#Reuben Dembo R195894B\n",
    "#Emmanuel Chinundu R195781K\n",
    "\n",
    "from google.colab import files\n",
    "\n",
    "uploaded = files.upload()"
   ]
  },
  {
   "cell_type": "code",
   "execution_count": 1,
   "metadata": {
    "id": "HyUIoDtboirc"
   },
   "outputs": [],
   "source": [
    "import pandas as pd \n",
    "import numpy as np\n",
    "\n",
    "data = pd.read_csv('projectDataset.csv')\n"
   ]
  },
  {
   "cell_type": "code",
   "execution_count": 2,
   "metadata": {
    "colab": {
     "base_uri": "https://localhost:8080/",
     "height": 224
    },
    "id": "RBIevQ-to7oY",
    "outputId": "f6f80952-7847-4d7d-8318-e0014568fc28"
   },
   "outputs": [
    {
     "data": {
      "text/html": [
       "<div>\n",
       "<style scoped>\n",
       "    .dataframe tbody tr th:only-of-type {\n",
       "        vertical-align: middle;\n",
       "    }\n",
       "\n",
       "    .dataframe tbody tr th {\n",
       "        vertical-align: top;\n",
       "    }\n",
       "\n",
       "    .dataframe thead th {\n",
       "        text-align: right;\n",
       "    }\n",
       "</style>\n",
       "<table border=\"1\" class=\"dataframe\">\n",
       "  <thead>\n",
       "    <tr style=\"text-align: right;\">\n",
       "      <th></th>\n",
       "      <th>Gender</th>\n",
       "      <th>Age</th>\n",
       "      <th>Height</th>\n",
       "      <th>Weight</th>\n",
       "      <th>family_history_with_overweight</th>\n",
       "      <th>FAVC</th>\n",
       "      <th>FCVC</th>\n",
       "      <th>NCP</th>\n",
       "      <th>CAEC</th>\n",
       "      <th>SMOKE</th>\n",
       "      <th>CH2O</th>\n",
       "      <th>SCC</th>\n",
       "      <th>FAF</th>\n",
       "      <th>TUE</th>\n",
       "      <th>CALC</th>\n",
       "      <th>MTRANS</th>\n",
       "      <th>NObeyesdad</th>\n",
       "    </tr>\n",
       "  </thead>\n",
       "  <tbody>\n",
       "    <tr>\n",
       "      <th>0</th>\n",
       "      <td>Female</td>\n",
       "      <td>21.0</td>\n",
       "      <td>1.62</td>\n",
       "      <td>64.0</td>\n",
       "      <td>yes</td>\n",
       "      <td>no</td>\n",
       "      <td>2.0</td>\n",
       "      <td>3.0</td>\n",
       "      <td>Sometimes</td>\n",
       "      <td>no</td>\n",
       "      <td>2.0</td>\n",
       "      <td>no</td>\n",
       "      <td>0.0</td>\n",
       "      <td>1.0</td>\n",
       "      <td>no</td>\n",
       "      <td>Public_Transportation</td>\n",
       "      <td>Normal_Weight</td>\n",
       "    </tr>\n",
       "    <tr>\n",
       "      <th>1</th>\n",
       "      <td>Female</td>\n",
       "      <td>21.0</td>\n",
       "      <td>1.52</td>\n",
       "      <td>56.0</td>\n",
       "      <td>yes</td>\n",
       "      <td>no</td>\n",
       "      <td>3.0</td>\n",
       "      <td>3.0</td>\n",
       "      <td>Sometimes</td>\n",
       "      <td>yes</td>\n",
       "      <td>3.0</td>\n",
       "      <td>yes</td>\n",
       "      <td>3.0</td>\n",
       "      <td>0.0</td>\n",
       "      <td>Sometimes</td>\n",
       "      <td>Public_Transportation</td>\n",
       "      <td>Normal_Weight</td>\n",
       "    </tr>\n",
       "    <tr>\n",
       "      <th>2</th>\n",
       "      <td>Male</td>\n",
       "      <td>23.0</td>\n",
       "      <td>1.80</td>\n",
       "      <td>77.0</td>\n",
       "      <td>yes</td>\n",
       "      <td>no</td>\n",
       "      <td>2.0</td>\n",
       "      <td>3.0</td>\n",
       "      <td>Sometimes</td>\n",
       "      <td>no</td>\n",
       "      <td>2.0</td>\n",
       "      <td>no</td>\n",
       "      <td>2.0</td>\n",
       "      <td>1.0</td>\n",
       "      <td>Frequently</td>\n",
       "      <td>Public_Transportation</td>\n",
       "      <td>Normal_Weight</td>\n",
       "    </tr>\n",
       "    <tr>\n",
       "      <th>3</th>\n",
       "      <td>Male</td>\n",
       "      <td>27.0</td>\n",
       "      <td>1.80</td>\n",
       "      <td>87.0</td>\n",
       "      <td>no</td>\n",
       "      <td>no</td>\n",
       "      <td>3.0</td>\n",
       "      <td>3.0</td>\n",
       "      <td>Sometimes</td>\n",
       "      <td>no</td>\n",
       "      <td>2.0</td>\n",
       "      <td>no</td>\n",
       "      <td>2.0</td>\n",
       "      <td>0.0</td>\n",
       "      <td>Frequently</td>\n",
       "      <td>Walking</td>\n",
       "      <td>Overweight_Level_I</td>\n",
       "    </tr>\n",
       "    <tr>\n",
       "      <th>4</th>\n",
       "      <td>Male</td>\n",
       "      <td>22.0</td>\n",
       "      <td>1.78</td>\n",
       "      <td>89.8</td>\n",
       "      <td>no</td>\n",
       "      <td>no</td>\n",
       "      <td>2.0</td>\n",
       "      <td>1.0</td>\n",
       "      <td>Sometimes</td>\n",
       "      <td>no</td>\n",
       "      <td>2.0</td>\n",
       "      <td>no</td>\n",
       "      <td>0.0</td>\n",
       "      <td>0.0</td>\n",
       "      <td>Sometimes</td>\n",
       "      <td>Public_Transportation</td>\n",
       "      <td>Overweight_Level_II</td>\n",
       "    </tr>\n",
       "  </tbody>\n",
       "</table>\n",
       "</div>"
      ],
      "text/plain": [
       "   Gender   Age  Height  Weight family_history_with_overweight FAVC  FCVC  \\\n",
       "0  Female  21.0    1.62    64.0                            yes   no   2.0   \n",
       "1  Female  21.0    1.52    56.0                            yes   no   3.0   \n",
       "2    Male  23.0    1.80    77.0                            yes   no   2.0   \n",
       "3    Male  27.0    1.80    87.0                             no   no   3.0   \n",
       "4    Male  22.0    1.78    89.8                             no   no   2.0   \n",
       "\n",
       "   NCP       CAEC SMOKE  CH2O  SCC  FAF  TUE        CALC  \\\n",
       "0  3.0  Sometimes    no   2.0   no  0.0  1.0          no   \n",
       "1  3.0  Sometimes   yes   3.0  yes  3.0  0.0   Sometimes   \n",
       "2  3.0  Sometimes    no   2.0   no  2.0  1.0  Frequently   \n",
       "3  3.0  Sometimes    no   2.0   no  2.0  0.0  Frequently   \n",
       "4  1.0  Sometimes    no   2.0   no  0.0  0.0   Sometimes   \n",
       "\n",
       "                  MTRANS           NObeyesdad  \n",
       "0  Public_Transportation        Normal_Weight  \n",
       "1  Public_Transportation        Normal_Weight  \n",
       "2  Public_Transportation        Normal_Weight  \n",
       "3                Walking   Overweight_Level_I  \n",
       "4  Public_Transportation  Overweight_Level_II  "
      ]
     },
     "execution_count": 2,
     "metadata": {},
     "output_type": "execute_result"
    }
   ],
   "source": [
    "data_df =pd.DataFrame(data)\n",
    "data_df.head()"
   ]
  },
  {
   "cell_type": "code",
   "execution_count": 3,
   "metadata": {
    "colab": {
     "base_uri": "https://localhost:8080/"
    },
    "id": "ByMf2OUipd_R",
    "outputId": "6f924138-e6a8-47a6-e6cb-119b4ba4af94"
   },
   "outputs": [
    {
     "data": {
      "text/plain": [
       "Obesity_Type_I         351\n",
       "Obesity_Type_III       324\n",
       "Obesity_Type_II        297\n",
       "Overweight_Level_I     290\n",
       "Overweight_Level_II    290\n",
       "Normal_Weight          287\n",
       "Insufficient_Weight    272\n",
       "Name: NObeyesdad, dtype: int64"
      ]
     },
     "execution_count": 3,
     "metadata": {},
     "output_type": "execute_result"
    }
   ],
   "source": [
    "data_df['NObeyesdad'].value_counts()"
   ]
  },
  {
   "cell_type": "code",
   "execution_count": 4,
   "metadata": {
    "id": "kXueTbuZp7AS"
   },
   "outputs": [],
   "source": [
    "clean_data ={\n",
    "    'NObeyesdad':{\n",
    "        'Obesity_Type_I':1 ,\n",
    "         'Obesity_Type_III':2,\n",
    "         'Obesity_Type_II':3,\n",
    "         'Overweight_Level_I':4,\n",
    "         'Overweight_Level_II':5,\n",
    "         'Normal_Weight':6,\n",
    "         'Insufficient_Weight':7\n",
    "    }\n",
    "}"
   ]
  },
  {
   "cell_type": "code",
   "execution_count": 5,
   "metadata": {
    "colab": {
     "base_uri": "https://localhost:8080/",
     "height": 204
    },
    "id": "qrDnYWqSrHQ7",
    "outputId": "66cae2e0-f2a6-4a8e-d3b7-83870221e08b"
   },
   "outputs": [
    {
     "data": {
      "text/html": [
       "<div>\n",
       "<style scoped>\n",
       "    .dataframe tbody tr th:only-of-type {\n",
       "        vertical-align: middle;\n",
       "    }\n",
       "\n",
       "    .dataframe tbody tr th {\n",
       "        vertical-align: top;\n",
       "    }\n",
       "\n",
       "    .dataframe thead th {\n",
       "        text-align: right;\n",
       "    }\n",
       "</style>\n",
       "<table border=\"1\" class=\"dataframe\">\n",
       "  <thead>\n",
       "    <tr style=\"text-align: right;\">\n",
       "      <th></th>\n",
       "      <th>Gender</th>\n",
       "      <th>Age</th>\n",
       "      <th>Height</th>\n",
       "      <th>Weight</th>\n",
       "      <th>family_history_with_overweight</th>\n",
       "      <th>FAVC</th>\n",
       "      <th>FCVC</th>\n",
       "      <th>NCP</th>\n",
       "      <th>CAEC</th>\n",
       "      <th>SMOKE</th>\n",
       "      <th>CH2O</th>\n",
       "      <th>SCC</th>\n",
       "      <th>FAF</th>\n",
       "      <th>TUE</th>\n",
       "      <th>CALC</th>\n",
       "      <th>MTRANS</th>\n",
       "      <th>NObeyesdad</th>\n",
       "    </tr>\n",
       "  </thead>\n",
       "  <tbody>\n",
       "    <tr>\n",
       "      <th>0</th>\n",
       "      <td>Female</td>\n",
       "      <td>21.0</td>\n",
       "      <td>1.62</td>\n",
       "      <td>64.0</td>\n",
       "      <td>yes</td>\n",
       "      <td>no</td>\n",
       "      <td>2.0</td>\n",
       "      <td>3.0</td>\n",
       "      <td>Sometimes</td>\n",
       "      <td>no</td>\n",
       "      <td>2.0</td>\n",
       "      <td>no</td>\n",
       "      <td>0.0</td>\n",
       "      <td>1.0</td>\n",
       "      <td>no</td>\n",
       "      <td>Public_Transportation</td>\n",
       "      <td>6</td>\n",
       "    </tr>\n",
       "    <tr>\n",
       "      <th>1</th>\n",
       "      <td>Female</td>\n",
       "      <td>21.0</td>\n",
       "      <td>1.52</td>\n",
       "      <td>56.0</td>\n",
       "      <td>yes</td>\n",
       "      <td>no</td>\n",
       "      <td>3.0</td>\n",
       "      <td>3.0</td>\n",
       "      <td>Sometimes</td>\n",
       "      <td>yes</td>\n",
       "      <td>3.0</td>\n",
       "      <td>yes</td>\n",
       "      <td>3.0</td>\n",
       "      <td>0.0</td>\n",
       "      <td>Sometimes</td>\n",
       "      <td>Public_Transportation</td>\n",
       "      <td>6</td>\n",
       "    </tr>\n",
       "    <tr>\n",
       "      <th>2</th>\n",
       "      <td>Male</td>\n",
       "      <td>23.0</td>\n",
       "      <td>1.80</td>\n",
       "      <td>77.0</td>\n",
       "      <td>yes</td>\n",
       "      <td>no</td>\n",
       "      <td>2.0</td>\n",
       "      <td>3.0</td>\n",
       "      <td>Sometimes</td>\n",
       "      <td>no</td>\n",
       "      <td>2.0</td>\n",
       "      <td>no</td>\n",
       "      <td>2.0</td>\n",
       "      <td>1.0</td>\n",
       "      <td>Frequently</td>\n",
       "      <td>Public_Transportation</td>\n",
       "      <td>6</td>\n",
       "    </tr>\n",
       "    <tr>\n",
       "      <th>3</th>\n",
       "      <td>Male</td>\n",
       "      <td>27.0</td>\n",
       "      <td>1.80</td>\n",
       "      <td>87.0</td>\n",
       "      <td>no</td>\n",
       "      <td>no</td>\n",
       "      <td>3.0</td>\n",
       "      <td>3.0</td>\n",
       "      <td>Sometimes</td>\n",
       "      <td>no</td>\n",
       "      <td>2.0</td>\n",
       "      <td>no</td>\n",
       "      <td>2.0</td>\n",
       "      <td>0.0</td>\n",
       "      <td>Frequently</td>\n",
       "      <td>Walking</td>\n",
       "      <td>4</td>\n",
       "    </tr>\n",
       "    <tr>\n",
       "      <th>4</th>\n",
       "      <td>Male</td>\n",
       "      <td>22.0</td>\n",
       "      <td>1.78</td>\n",
       "      <td>89.8</td>\n",
       "      <td>no</td>\n",
       "      <td>no</td>\n",
       "      <td>2.0</td>\n",
       "      <td>1.0</td>\n",
       "      <td>Sometimes</td>\n",
       "      <td>no</td>\n",
       "      <td>2.0</td>\n",
       "      <td>no</td>\n",
       "      <td>0.0</td>\n",
       "      <td>0.0</td>\n",
       "      <td>Sometimes</td>\n",
       "      <td>Public_Transportation</td>\n",
       "      <td>5</td>\n",
       "    </tr>\n",
       "  </tbody>\n",
       "</table>\n",
       "</div>"
      ],
      "text/plain": [
       "   Gender   Age  Height  Weight family_history_with_overweight FAVC  FCVC  \\\n",
       "0  Female  21.0    1.62    64.0                            yes   no   2.0   \n",
       "1  Female  21.0    1.52    56.0                            yes   no   3.0   \n",
       "2    Male  23.0    1.80    77.0                            yes   no   2.0   \n",
       "3    Male  27.0    1.80    87.0                             no   no   3.0   \n",
       "4    Male  22.0    1.78    89.8                             no   no   2.0   \n",
       "\n",
       "   NCP       CAEC SMOKE  CH2O  SCC  FAF  TUE        CALC  \\\n",
       "0  3.0  Sometimes    no   2.0   no  0.0  1.0          no   \n",
       "1  3.0  Sometimes   yes   3.0  yes  3.0  0.0   Sometimes   \n",
       "2  3.0  Sometimes    no   2.0   no  2.0  1.0  Frequently   \n",
       "3  3.0  Sometimes    no   2.0   no  2.0  0.0  Frequently   \n",
       "4  1.0  Sometimes    no   2.0   no  0.0  0.0   Sometimes   \n",
       "\n",
       "                  MTRANS  NObeyesdad  \n",
       "0  Public_Transportation           6  \n",
       "1  Public_Transportation           6  \n",
       "2  Public_Transportation           6  \n",
       "3                Walking           4  \n",
       "4  Public_Transportation           5  "
      ]
     },
     "execution_count": 5,
     "metadata": {},
     "output_type": "execute_result"
    }
   ],
   "source": [
    "data_df = data_df.replace(clean_data)\n",
    "data_df.head()"
   ]
  },
  {
   "cell_type": "code",
   "execution_count": 6,
   "metadata": {
    "id": "Ouwxi_77t3fa"
   },
   "outputs": [],
   "source": [
    "#data_df['NObeyesdad'] = pd.to_numeric(data_df['NObeyesdad'])"
   ]
  },
  {
   "cell_type": "code",
   "execution_count": 7,
   "metadata": {
    "colab": {
     "base_uri": "https://localhost:8080/"
    },
    "id": "j25eiPOZo9dW",
    "outputId": "bf9d9c9a-e94c-445c-e46a-7c64349dcb80"
   },
   "outputs": [
    {
     "data": {
      "text/plain": [
       "Gender                             object\n",
       "Age                               float64\n",
       "Height                            float64\n",
       "Weight                            float64\n",
       "family_history_with_overweight     object\n",
       "FAVC                               object\n",
       "FCVC                              float64\n",
       "NCP                               float64\n",
       "CAEC                               object\n",
       "SMOKE                              object\n",
       "CH2O                              float64\n",
       "SCC                                object\n",
       "FAF                               float64\n",
       "TUE                               float64\n",
       "CALC                               object\n",
       "MTRANS                             object\n",
       "NObeyesdad                          int64\n",
       "dtype: object"
      ]
     },
     "execution_count": 7,
     "metadata": {},
     "output_type": "execute_result"
    }
   ],
   "source": [
    "data_df.dtypes"
   ]
  },
  {
   "cell_type": "code",
   "execution_count": 8,
   "metadata": {
    "colab": {
     "base_uri": "https://localhost:8080/",
     "height": 297
    },
    "id": "nnXKH6W7pBo5",
    "outputId": "258e9d9c-5a4d-4019-ee0e-7f51f548ef71"
   },
   "outputs": [
    {
     "data": {
      "text/html": [
       "<div>\n",
       "<style scoped>\n",
       "    .dataframe tbody tr th:only-of-type {\n",
       "        vertical-align: middle;\n",
       "    }\n",
       "\n",
       "    .dataframe tbody tr th {\n",
       "        vertical-align: top;\n",
       "    }\n",
       "\n",
       "    .dataframe thead th {\n",
       "        text-align: right;\n",
       "    }\n",
       "</style>\n",
       "<table border=\"1\" class=\"dataframe\">\n",
       "  <thead>\n",
       "    <tr style=\"text-align: right;\">\n",
       "      <th></th>\n",
       "      <th>Age</th>\n",
       "      <th>Height</th>\n",
       "      <th>Weight</th>\n",
       "      <th>FCVC</th>\n",
       "      <th>NCP</th>\n",
       "      <th>CH2O</th>\n",
       "      <th>FAF</th>\n",
       "      <th>TUE</th>\n",
       "      <th>NObeyesdad</th>\n",
       "    </tr>\n",
       "  </thead>\n",
       "  <tbody>\n",
       "    <tr>\n",
       "      <th>count</th>\n",
       "      <td>2111.000000</td>\n",
       "      <td>2111.000000</td>\n",
       "      <td>2111.000000</td>\n",
       "      <td>2111.000000</td>\n",
       "      <td>2111.000000</td>\n",
       "      <td>2111.000000</td>\n",
       "      <td>2111.000000</td>\n",
       "      <td>2111.000000</td>\n",
       "      <td>2111.000000</td>\n",
       "    </tr>\n",
       "    <tr>\n",
       "      <th>mean</th>\n",
       "      <td>24.312600</td>\n",
       "      <td>1.701677</td>\n",
       "      <td>86.586058</td>\n",
       "      <td>2.419043</td>\n",
       "      <td>2.685628</td>\n",
       "      <td>2.008011</td>\n",
       "      <td>1.010298</td>\n",
       "      <td>0.657866</td>\n",
       "      <td>3.849360</td>\n",
       "    </tr>\n",
       "    <tr>\n",
       "      <th>std</th>\n",
       "      <td>6.345968</td>\n",
       "      <td>0.093305</td>\n",
       "      <td>26.191172</td>\n",
       "      <td>0.533927</td>\n",
       "      <td>0.778039</td>\n",
       "      <td>0.612953</td>\n",
       "      <td>0.850592</td>\n",
       "      <td>0.608927</td>\n",
       "      <td>2.017706</td>\n",
       "    </tr>\n",
       "    <tr>\n",
       "      <th>min</th>\n",
       "      <td>14.000000</td>\n",
       "      <td>1.450000</td>\n",
       "      <td>39.000000</td>\n",
       "      <td>1.000000</td>\n",
       "      <td>1.000000</td>\n",
       "      <td>1.000000</td>\n",
       "      <td>0.000000</td>\n",
       "      <td>0.000000</td>\n",
       "      <td>1.000000</td>\n",
       "    </tr>\n",
       "    <tr>\n",
       "      <th>25%</th>\n",
       "      <td>19.947192</td>\n",
       "      <td>1.630000</td>\n",
       "      <td>65.473343</td>\n",
       "      <td>2.000000</td>\n",
       "      <td>2.658738</td>\n",
       "      <td>1.584812</td>\n",
       "      <td>0.124505</td>\n",
       "      <td>0.000000</td>\n",
       "      <td>2.000000</td>\n",
       "    </tr>\n",
       "    <tr>\n",
       "      <th>50%</th>\n",
       "      <td>22.777890</td>\n",
       "      <td>1.700499</td>\n",
       "      <td>83.000000</td>\n",
       "      <td>2.385502</td>\n",
       "      <td>3.000000</td>\n",
       "      <td>2.000000</td>\n",
       "      <td>1.000000</td>\n",
       "      <td>0.625350</td>\n",
       "      <td>4.000000</td>\n",
       "    </tr>\n",
       "    <tr>\n",
       "      <th>75%</th>\n",
       "      <td>26.000000</td>\n",
       "      <td>1.768464</td>\n",
       "      <td>107.430682</td>\n",
       "      <td>3.000000</td>\n",
       "      <td>3.000000</td>\n",
       "      <td>2.477420</td>\n",
       "      <td>1.666678</td>\n",
       "      <td>1.000000</td>\n",
       "      <td>6.000000</td>\n",
       "    </tr>\n",
       "    <tr>\n",
       "      <th>max</th>\n",
       "      <td>61.000000</td>\n",
       "      <td>1.980000</td>\n",
       "      <td>173.000000</td>\n",
       "      <td>3.000000</td>\n",
       "      <td>4.000000</td>\n",
       "      <td>3.000000</td>\n",
       "      <td>3.000000</td>\n",
       "      <td>2.000000</td>\n",
       "      <td>7.000000</td>\n",
       "    </tr>\n",
       "  </tbody>\n",
       "</table>\n",
       "</div>"
      ],
      "text/plain": [
       "               Age       Height       Weight         FCVC          NCP  \\\n",
       "count  2111.000000  2111.000000  2111.000000  2111.000000  2111.000000   \n",
       "mean     24.312600     1.701677    86.586058     2.419043     2.685628   \n",
       "std       6.345968     0.093305    26.191172     0.533927     0.778039   \n",
       "min      14.000000     1.450000    39.000000     1.000000     1.000000   \n",
       "25%      19.947192     1.630000    65.473343     2.000000     2.658738   \n",
       "50%      22.777890     1.700499    83.000000     2.385502     3.000000   \n",
       "75%      26.000000     1.768464   107.430682     3.000000     3.000000   \n",
       "max      61.000000     1.980000   173.000000     3.000000     4.000000   \n",
       "\n",
       "              CH2O          FAF          TUE   NObeyesdad  \n",
       "count  2111.000000  2111.000000  2111.000000  2111.000000  \n",
       "mean      2.008011     1.010298     0.657866     3.849360  \n",
       "std       0.612953     0.850592     0.608927     2.017706  \n",
       "min       1.000000     0.000000     0.000000     1.000000  \n",
       "25%       1.584812     0.124505     0.000000     2.000000  \n",
       "50%       2.000000     1.000000     0.625350     4.000000  \n",
       "75%       2.477420     1.666678     1.000000     6.000000  \n",
       "max       3.000000     3.000000     2.000000     7.000000  "
      ]
     },
     "execution_count": 8,
     "metadata": {},
     "output_type": "execute_result"
    }
   ],
   "source": [
    "data_df.describe()"
   ]
  },
  {
   "cell_type": "code",
   "execution_count": 9,
   "metadata": {
    "colab": {
     "base_uri": "https://localhost:8080/",
     "height": 879
    },
    "id": "kLJYTZkdpGdN",
    "outputId": "2f7a6ae6-1615-4678-c87d-de5eccc226fc"
   },
   "outputs": [
    {
     "data": {
      "image/png": "[encoded data removed]",
      "text/plain": [
       "<Figure size 1440x1080 with 9 Axes>"
      ]
     },
     "metadata": {
      "needs_background": "light"
     },
     "output_type": "display_data"
    }
   ],
   "source": [
    "import matplotlib.pyplot as plt\n",
    "data.hist(bins=50 , figsize=(20,15))\n",
    "plt.show()"
   ]
  },
  {
   "cell_type": "code",
   "execution_count": 10,
   "metadata": {
    "colab": {
     "base_uri": "https://localhost:8080/"
    },
    "id": "SpEjhgzLpac8",
    "outputId": "6ccf0956-afce-43a7-e76d-41f12dc4e5fd"
   },
   "outputs": [
    {
     "name": "stdout",
     "output_type": "stream",
     "text": [
      "1688 train +  423 test\n"
     ]
    }
   ],
   "source": [
    "from sklearn.model_selection import train_test_split\n",
    "train_set,test_set = train_test_split(data,test_size = 0.2 , random_state =42)\n",
    "print(len(train_set),'train + ',len(test_set),'test')"
   ]
  },
  {
   "cell_type": "code",
   "execution_count": 11,
   "metadata": {
    "id": "VGawbB4wzNgv"
   },
   "outputs": [],
   "source": [
    "data_df['Gender'],_ =pd.factorize(data_df['Gender'])\n",
    "data_df['family_history_with_overweight'],_ =pd.factorize(data_df['family_history_with_overweight'])\n",
    "data_df['FAVC'],_ =pd.factorize(data_df['FAVC'])\n",
    "data_df['CAEC'],_ =pd.factorize(data_df['CAEC'])\n",
    "data_df['SMOKE'],_ =pd.factorize(data_df['SMOKE'])\n",
    "data_df['CALC'],_ =pd.factorize(data_df['CALC'])\n",
    "data_df['MTRANS'],_ =pd.factorize(data_df['MTRANS'])\n",
    "data_df['SCC'],_ =pd.factorize(data_df['SCC'])"
   ]
  },
  {
   "cell_type": "code",
   "execution_count": 12,
   "metadata": {
    "colab": {
     "base_uri": "https://localhost:8080/"
    },
    "id": "7bz9-_Wl-Ny8",
    "outputId": "6dbf6537-dbf2-4707-b6b7-e5c088d2f505"
   },
   "outputs": [
    {
     "name": "stdout",
     "output_type": "stream",
     "text": [
      "<class 'pandas.core.frame.DataFrame'>\n",
      "RangeIndex: 2111 entries, 0 to 2110\n",
      "Data columns (total 17 columns):\n",
      " #   Column                          Non-Null Count  Dtype  \n",
      "---  ------                          --------------  -----  \n",
      " 0   Gender                          2111 non-null   int64  \n",
      " 1   Age                             2111 non-null   float64\n",
      " 2   Height                          2111 non-null   float64\n",
      " 3   Weight                          2111 non-null   float64\n",
      " 4   family_history_with_overweight  2111 non-null   int64  \n",
      " 5   FAVC                            2111 non-null   int64  \n",
      " 6   FCVC                            2111 non-null   float64\n",
      " 7   NCP                             2111 non-null   float64\n",
      " 8   CAEC                            2111 non-null   int64  \n",
      " 9   SMOKE                           2111 non-null   int64  \n",
      " 10  CH2O                            2111 non-null   float64\n",
      " 11  SCC                             2111 non-null   int64  \n",
      " 12  FAF                             2111 non-null   float64\n",
      " 13  TUE                             2111 non-null   float64\n",
      " 14  CALC                            2111 non-null   int64  \n",
      " 15  MTRANS                          2111 non-null   int64  \n",
      " 16  NObeyesdad                      2111 non-null   int64  \n",
      "dtypes: float64(8), int64(9)\n",
      "memory usage: 280.5 KB\n"
     ]
    }
   ],
   "source": [
    "data_df.info()\n"
   ]
  },
  {
   "cell_type": "code",
   "execution_count": 13,
   "metadata": {
    "colab": {
     "base_uri": "https://localhost:8080/",
     "height": 596
    },
    "id": "7q2oO_cnqJ5j",
    "outputId": "99241520-605b-436d-fb8b-075aea20bf61"
   },
   "outputs": [
    {
     "data": {
      "text/html": [
       "<div>\n",
       "<style scoped>\n",
       "    .dataframe tbody tr th:only-of-type {\n",
       "        vertical-align: middle;\n",
       "    }\n",
       "\n",
       "    .dataframe tbody tr th {\n",
       "        vertical-align: top;\n",
       "    }\n",
       "\n",
       "    .dataframe thead th {\n",
       "        text-align: right;\n",
       "    }\n",
       "</style>\n",
       "<table border=\"1\" class=\"dataframe\">\n",
       "  <thead>\n",
       "    <tr style=\"text-align: right;\">\n",
       "      <th></th>\n",
       "      <th>Gender</th>\n",
       "      <th>Age</th>\n",
       "      <th>Height</th>\n",
       "      <th>Weight</th>\n",
       "      <th>family_history_with_overweight</th>\n",
       "      <th>FAVC</th>\n",
       "      <th>FCVC</th>\n",
       "      <th>NCP</th>\n",
       "      <th>CAEC</th>\n",
       "      <th>SMOKE</th>\n",
       "      <th>CH2O</th>\n",
       "      <th>SCC</th>\n",
       "      <th>FAF</th>\n",
       "      <th>TUE</th>\n",
       "      <th>CALC</th>\n",
       "      <th>MTRANS</th>\n",
       "      <th>NObeyesdad</th>\n",
       "    </tr>\n",
       "  </thead>\n",
       "  <tbody>\n",
       "    <tr>\n",
       "      <th>Gender</th>\n",
       "      <td>1.000000</td>\n",
       "      <td>0.048394</td>\n",
       "      <td>0.618466</td>\n",
       "      <td>0.161668</td>\n",
       "      <td>-0.102512</td>\n",
       "      <td>0.064934</td>\n",
       "      <td>-0.274505</td>\n",
       "      <td>0.067600</td>\n",
       "      <td>-0.006900</td>\n",
       "      <td>0.044698</td>\n",
       "      <td>0.107930</td>\n",
       "      <td>-0.102633</td>\n",
       "      <td>0.189607</td>\n",
       "      <td>0.017269</td>\n",
       "      <td>-0.007616</td>\n",
       "      <td>0.164116</td>\n",
       "      <td>0.025778</td>\n",
       "    </tr>\n",
       "    <tr>\n",
       "      <th>Age</th>\n",
       "      <td>0.048394</td>\n",
       "      <td>1.000000</td>\n",
       "      <td>-0.025958</td>\n",
       "      <td>0.202560</td>\n",
       "      <td>-0.205725</td>\n",
       "      <td>0.063902</td>\n",
       "      <td>0.016291</td>\n",
       "      <td>-0.043944</td>\n",
       "      <td>-0.125836</td>\n",
       "      <td>0.091987</td>\n",
       "      <td>-0.045304</td>\n",
       "      <td>-0.116283</td>\n",
       "      <td>-0.144938</td>\n",
       "      <td>-0.296931</td>\n",
       "      <td>0.044487</td>\n",
       "      <td>0.567983</td>\n",
       "      <td>-0.247464</td>\n",
       "    </tr>\n",
       "    <tr>\n",
       "      <th>Height</th>\n",
       "      <td>0.618466</td>\n",
       "      <td>-0.025958</td>\n",
       "      <td>1.000000</td>\n",
       "      <td>0.463136</td>\n",
       "      <td>-0.247684</td>\n",
       "      <td>0.178364</td>\n",
       "      <td>-0.038121</td>\n",
       "      <td>0.243672</td>\n",
       "      <td>-0.133042</td>\n",
       "      <td>0.055499</td>\n",
       "      <td>0.213376</td>\n",
       "      <td>-0.133753</td>\n",
       "      <td>0.294709</td>\n",
       "      <td>0.051912</td>\n",
       "      <td>0.129732</td>\n",
       "      <td>0.085768</td>\n",
       "      <td>-0.064963</td>\n",
       "    </tr>\n",
       "    <tr>\n",
       "      <th>Weight</th>\n",
       "      <td>0.161668</td>\n",
       "      <td>0.202560</td>\n",
       "      <td>0.463136</td>\n",
       "      <td>1.000000</td>\n",
       "      <td>-0.496820</td>\n",
       "      <td>0.272300</td>\n",
       "      <td>0.216125</td>\n",
       "      <td>0.107469</td>\n",
       "      <td>-0.325981</td>\n",
       "      <td>0.025746</td>\n",
       "      <td>0.200575</td>\n",
       "      <td>-0.201906</td>\n",
       "      <td>-0.051436</td>\n",
       "      <td>-0.071561</td>\n",
       "      <td>0.206677</td>\n",
       "      <td>-0.046615</td>\n",
       "      <td>-0.741384</td>\n",
       "    </tr>\n",
       "    <tr>\n",
       "      <th>family_history_with_overweight</th>\n",
       "      <td>-0.102512</td>\n",
       "      <td>-0.205725</td>\n",
       "      <td>-0.247684</td>\n",
       "      <td>-0.496820</td>\n",
       "      <td>1.000000</td>\n",
       "      <td>-0.208036</td>\n",
       "      <td>-0.040372</td>\n",
       "      <td>-0.071370</td>\n",
       "      <td>0.319276</td>\n",
       "      <td>-0.017385</td>\n",
       "      <td>-0.147437</td>\n",
       "      <td>0.185422</td>\n",
       "      <td>0.056673</td>\n",
       "      <td>-0.022943</td>\n",
       "      <td>0.036676</td>\n",
       "      <td>-0.065036</td>\n",
       "      <td>0.459742</td>\n",
       "    </tr>\n",
       "    <tr>\n",
       "      <th>FAVC</th>\n",
       "      <td>0.064934</td>\n",
       "      <td>0.063902</td>\n",
       "      <td>0.178364</td>\n",
       "      <td>0.272300</td>\n",
       "      <td>-0.208036</td>\n",
       "      <td>1.000000</td>\n",
       "      <td>-0.027283</td>\n",
       "      <td>-0.007000</td>\n",
       "      <td>-0.144333</td>\n",
       "      <td>-0.050660</td>\n",
       "      <td>0.009719</td>\n",
       "      <td>-0.190658</td>\n",
       "      <td>-0.107995</td>\n",
       "      <td>0.068417</td>\n",
       "      <td>0.089520</td>\n",
       "      <td>-0.009102</td>\n",
       "      <td>-0.278537</td>\n",
       "    </tr>\n",
       "    <tr>\n",
       "      <th>FCVC</th>\n",
       "      <td>-0.274505</td>\n",
       "      <td>0.016291</td>\n",
       "      <td>-0.038121</td>\n",
       "      <td>0.216125</td>\n",
       "      <td>-0.040372</td>\n",
       "      <td>-0.027283</td>\n",
       "      <td>1.000000</td>\n",
       "      <td>0.042216</td>\n",
       "      <td>-0.062290</td>\n",
       "      <td>0.014320</td>\n",
       "      <td>0.068461</td>\n",
       "      <td>0.071852</td>\n",
       "      <td>0.019939</td>\n",
       "      <td>-0.101135</td>\n",
       "      <td>0.060781</td>\n",
       "      <td>-0.065098</td>\n",
       "      <td>-0.073456</td>\n",
       "    </tr>\n",
       "    <tr>\n",
       "      <th>NCP</th>\n",
       "      <td>0.067600</td>\n",
       "      <td>-0.043944</td>\n",
       "      <td>0.243672</td>\n",
       "      <td>0.107469</td>\n",
       "      <td>-0.071370</td>\n",
       "      <td>-0.007000</td>\n",
       "      <td>0.042216</td>\n",
       "      <td>1.000000</td>\n",
       "      <td>-0.071833</td>\n",
       "      <td>0.007811</td>\n",
       "      <td>0.057088</td>\n",
       "      <td>-0.015624</td>\n",
       "      <td>0.129504</td>\n",
       "      <td>0.036326</td>\n",
       "      <td>0.071747</td>\n",
       "      <td>0.059022</td>\n",
       "      <td>0.062796</td>\n",
       "    </tr>\n",
       "    <tr>\n",
       "      <th>CAEC</th>\n",
       "      <td>-0.006900</td>\n",
       "      <td>-0.125836</td>\n",
       "      <td>-0.133042</td>\n",
       "      <td>-0.325981</td>\n",
       "      <td>0.319276</td>\n",
       "      <td>-0.144333</td>\n",
       "      <td>-0.062290</td>\n",
       "      <td>-0.071833</td>\n",
       "      <td>1.000000</td>\n",
       "      <td>0.040859</td>\n",
       "      <td>0.048486</td>\n",
       "      <td>0.152793</td>\n",
       "      <td>0.047329</td>\n",
       "      <td>-0.073929</td>\n",
       "      <td>0.015833</td>\n",
       "      <td>-0.062877</td>\n",
       "      <td>0.304570</td>\n",
       "    </tr>\n",
       "    <tr>\n",
       "      <th>SMOKE</th>\n",
       "      <td>0.044698</td>\n",
       "      <td>0.091987</td>\n",
       "      <td>0.055499</td>\n",
       "      <td>0.025746</td>\n",
       "      <td>-0.017385</td>\n",
       "      <td>-0.050660</td>\n",
       "      <td>0.014320</td>\n",
       "      <td>0.007811</td>\n",
       "      <td>0.040859</td>\n",
       "      <td>1.000000</td>\n",
       "      <td>-0.031995</td>\n",
       "      <td>0.047731</td>\n",
       "      <td>0.011216</td>\n",
       "      <td>0.017613</td>\n",
       "      <td>0.082471</td>\n",
       "      <td>0.021045</td>\n",
       "      <td>0.009252</td>\n",
       "    </tr>\n",
       "    <tr>\n",
       "      <th>CH2O</th>\n",
       "      <td>0.107930</td>\n",
       "      <td>-0.045304</td>\n",
       "      <td>0.213376</td>\n",
       "      <td>0.200575</td>\n",
       "      <td>-0.147437</td>\n",
       "      <td>0.009719</td>\n",
       "      <td>0.068461</td>\n",
       "      <td>0.057088</td>\n",
       "      <td>0.048486</td>\n",
       "      <td>-0.031995</td>\n",
       "      <td>1.000000</td>\n",
       "      <td>0.008036</td>\n",
       "      <td>0.167236</td>\n",
       "      <td>0.011965</td>\n",
       "      <td>0.091386</td>\n",
       "      <td>-0.035638</td>\n",
       "      <td>-0.152567</td>\n",
       "    </tr>\n",
       "    <tr>\n",
       "      <th>SCC</th>\n",
       "      <td>-0.102633</td>\n",
       "      <td>-0.116283</td>\n",
       "      <td>-0.133753</td>\n",
       "      <td>-0.201906</td>\n",
       "      <td>0.185422</td>\n",
       "      <td>-0.190658</td>\n",
       "      <td>0.071852</td>\n",
       "      <td>-0.015624</td>\n",
       "      <td>0.152793</td>\n",
       "      <td>0.047731</td>\n",
       "      <td>0.008036</td>\n",
       "      <td>1.000000</td>\n",
       "      <td>0.074221</td>\n",
       "      <td>-0.010928</td>\n",
       "      <td>0.003463</td>\n",
       "      <td>-0.012794</td>\n",
       "      <td>0.154936</td>\n",
       "    </tr>\n",
       "    <tr>\n",
       "      <th>FAF</th>\n",
       "      <td>0.189607</td>\n",
       "      <td>-0.144938</td>\n",
       "      <td>0.294709</td>\n",
       "      <td>-0.051436</td>\n",
       "      <td>0.056673</td>\n",
       "      <td>-0.107995</td>\n",
       "      <td>0.019939</td>\n",
       "      <td>0.129504</td>\n",
       "      <td>0.047329</td>\n",
       "      <td>0.011216</td>\n",
       "      <td>0.167236</td>\n",
       "      <td>0.074221</td>\n",
       "      <td>1.000000</td>\n",
       "      <td>0.058562</td>\n",
       "      <td>-0.086799</td>\n",
       "      <td>0.036098</td>\n",
       "      <td>0.159263</td>\n",
       "    </tr>\n",
       "    <tr>\n",
       "      <th>TUE</th>\n",
       "      <td>0.017269</td>\n",
       "      <td>-0.296931</td>\n",
       "      <td>0.051912</td>\n",
       "      <td>-0.071561</td>\n",
       "      <td>-0.022943</td>\n",
       "      <td>0.068417</td>\n",
       "      <td>-0.101135</td>\n",
       "      <td>0.036326</td>\n",
       "      <td>-0.073929</td>\n",
       "      <td>0.017613</td>\n",
       "      <td>0.011965</td>\n",
       "      <td>-0.010928</td>\n",
       "      <td>0.058562</td>\n",
       "      <td>1.000000</td>\n",
       "      <td>-0.045864</td>\n",
       "      <td>-0.165571</td>\n",
       "      <td>0.087560</td>\n",
       "    </tr>\n",
       "    <tr>\n",
       "      <th>CALC</th>\n",
       "      <td>-0.007616</td>\n",
       "      <td>0.044487</td>\n",
       "      <td>0.129732</td>\n",
       "      <td>0.206677</td>\n",
       "      <td>0.036676</td>\n",
       "      <td>0.089520</td>\n",
       "      <td>0.060781</td>\n",
       "      <td>0.071747</td>\n",
       "      <td>0.015833</td>\n",
       "      <td>0.082471</td>\n",
       "      <td>0.091386</td>\n",
       "      <td>0.003463</td>\n",
       "      <td>-0.086799</td>\n",
       "      <td>-0.045864</td>\n",
       "      <td>1.000000</td>\n",
       "      <td>-0.025492</td>\n",
       "      <td>-0.087673</td>\n",
       "    </tr>\n",
       "    <tr>\n",
       "      <th>MTRANS</th>\n",
       "      <td>0.164116</td>\n",
       "      <td>0.567983</td>\n",
       "      <td>0.085768</td>\n",
       "      <td>-0.046615</td>\n",
       "      <td>-0.065036</td>\n",
       "      <td>-0.009102</td>\n",
       "      <td>-0.065098</td>\n",
       "      <td>0.059022</td>\n",
       "      <td>-0.062877</td>\n",
       "      <td>0.021045</td>\n",
       "      <td>-0.035638</td>\n",
       "      <td>-0.012794</td>\n",
       "      <td>0.036098</td>\n",
       "      <td>-0.165571</td>\n",
       "      <td>-0.025492</td>\n",
       "      <td>1.000000</td>\n",
       "      <td>0.017934</td>\n",
       "    </tr>\n",
       "    <tr>\n",
       "      <th>NObeyesdad</th>\n",
       "      <td>0.025778</td>\n",
       "      <td>-0.247464</td>\n",
       "      <td>-0.064963</td>\n",
       "      <td>-0.741384</td>\n",
       "      <td>0.459742</td>\n",
       "      <td>-0.278537</td>\n",
       "      <td>-0.073456</td>\n",
       "      <td>0.062796</td>\n",
       "      <td>0.304570</td>\n",
       "      <td>0.009252</td>\n",
       "      <td>-0.152567</td>\n",
       "      <td>0.154936</td>\n",
       "      <td>0.159263</td>\n",
       "      <td>0.087560</td>\n",
       "      <td>-0.087673</td>\n",
       "      <td>0.017934</td>\n",
       "      <td>1.000000</td>\n",
       "    </tr>\n",
       "  </tbody>\n",
       "</table>\n",
       "</div>"
      ],
      "text/plain": [
       "                                  Gender       Age    Height    Weight  \\\n",
       "Gender                          1.000000  0.048394  0.618466  0.161668   \n",
       "Age                             0.048394  1.000000 -0.025958  0.202560   \n",
       "Height                          0.618466 -0.025958  1.000000  0.463136   \n",
       "Weight                          0.161668  0.202560  0.463136  1.000000   \n",
       "family_history_with_overweight -0.102512 -0.205725 -0.247684 -0.496820   \n",
       "FAVC                            0.064934  0.063902  0.178364  0.272300   \n",
       "FCVC                           -0.274505  0.016291 -0.038121  0.216125   \n",
       "NCP                             0.067600 -0.043944  0.243672  0.107469   \n",
       "CAEC                           -0.006900 -0.125836 -0.133042 -0.325981   \n",
       "SMOKE                           0.044698  0.091987  0.055499  0.025746   \n",
       "CH2O                            0.107930 -0.045304  0.213376  0.200575   \n",
       "SCC                            -0.102633 -0.116283 -0.133753 -0.201906   \n",
       "FAF                             0.189607 -0.144938  0.294709 -0.051436   \n",
       "TUE                             0.017269 -0.296931  0.051912 -0.071561   \n",
       "CALC                           -0.007616  0.044487  0.129732  0.206677   \n",
       "MTRANS                          0.164116  0.567983  0.085768 -0.046615   \n",
       "NObeyesdad                      0.025778 -0.247464 -0.064963 -0.741384   \n",
       "\n",
       "                                family_history_with_overweight      FAVC  \\\n",
       "Gender                                               -0.102512  0.064934   \n",
       "Age                                                  -0.205725  0.063902   \n",
       "Height                                               -0.247684  0.178364   \n",
       "Weight                                               -0.496820  0.272300   \n",
       "family_history_with_overweight                        1.000000 -0.208036   \n",
       "FAVC                                                 -0.208036  1.000000   \n",
       "FCVC                                                 -0.040372 -0.027283   \n",
       "NCP                                                  -0.071370 -0.007000   \n",
       "CAEC                                                  0.319276 -0.144333   \n",
       "SMOKE                                                -0.017385 -0.050660   \n",
       "CH2O                                                 -0.147437  0.009719   \n",
       "SCC                                                   0.185422 -0.190658   \n",
       "FAF                                                   0.056673 -0.107995   \n",
       "TUE                                                  -0.022943  0.068417   \n",
       "CALC                                                  0.036676  0.089520   \n",
       "MTRANS                                               -0.065036 -0.009102   \n",
       "NObeyesdad                                            0.459742 -0.278537   \n",
       "\n",
       "                                    FCVC       NCP      CAEC     SMOKE  \\\n",
       "Gender                         -0.274505  0.067600 -0.006900  0.044698   \n",
       "Age                             0.016291 -0.043944 -0.125836  0.091987   \n",
       "Height                         -0.038121  0.243672 -0.133042  0.055499   \n",
       "Weight                          0.216125  0.107469 -0.325981  0.025746   \n",
       "family_history_with_overweight -0.040372 -0.071370  0.319276 -0.017385   \n",
       "FAVC                           -0.027283 -0.007000 -0.144333 -0.050660   \n",
       "FCVC                            1.000000  0.042216 -0.062290  0.014320   \n",
       "NCP                             0.042216  1.000000 -0.071833  0.007811   \n",
       "CAEC                           -0.062290 -0.071833  1.000000  0.040859   \n",
       "SMOKE                           0.014320  0.007811  0.040859  1.000000   \n",
       "CH2O                            0.068461  0.057088  0.048486 -0.031995   \n",
       "SCC                             0.071852 -0.015624  0.152793  0.047731   \n",
       "FAF                             0.019939  0.129504  0.047329  0.011216   \n",
       "TUE                            -0.101135  0.036326 -0.073929  0.017613   \n",
       "CALC                            0.060781  0.071747  0.015833  0.082471   \n",
       "MTRANS                         -0.065098  0.059022 -0.062877  0.021045   \n",
       "NObeyesdad                     -0.073456  0.062796  0.304570  0.009252   \n",
       "\n",
       "                                    CH2O       SCC       FAF       TUE  \\\n",
       "Gender                          0.107930 -0.102633  0.189607  0.017269   \n",
       "Age                            -0.045304 -0.116283 -0.144938 -0.296931   \n",
       "Height                          0.213376 -0.133753  0.294709  0.051912   \n",
       "Weight                          0.200575 -0.201906 -0.051436 -0.071561   \n",
       "family_history_with_overweight -0.147437  0.185422  0.056673 -0.022943   \n",
       "FAVC                            0.009719 -0.190658 -0.107995  0.068417   \n",
       "FCVC                            0.068461  0.071852  0.019939 -0.101135   \n",
       "NCP                             0.057088 -0.015624  0.129504  0.036326   \n",
       "CAEC                            0.048486  0.152793  0.047329 -0.073929   \n",
       "SMOKE                          -0.031995  0.047731  0.011216  0.017613   \n",
       "CH2O                            1.000000  0.008036  0.167236  0.011965   \n",
       "SCC                             0.008036  1.000000  0.074221 -0.010928   \n",
       "FAF                             0.167236  0.074221  1.000000  0.058562   \n",
       "TUE                             0.011965 -0.010928  0.058562  1.000000   \n",
       "CALC                            0.091386  0.003463 -0.086799 -0.045864   \n",
       "MTRANS                         -0.035638 -0.012794  0.036098 -0.165571   \n",
       "NObeyesdad                     -0.152567  0.154936  0.159263  0.087560   \n",
       "\n",
       "                                    CALC    MTRANS  NObeyesdad  \n",
       "Gender                         -0.007616  0.164116    0.025778  \n",
       "Age                             0.044487  0.567983   -0.247464  \n",
       "Height                          0.129732  0.085768   -0.064963  \n",
       "Weight                          0.206677 -0.046615   -0.741384  \n",
       "family_history_with_overweight  0.036676 -0.065036    0.459742  \n",
       "FAVC                            0.089520 -0.009102   -0.278537  \n",
       "FCVC                            0.060781 -0.065098   -0.073456  \n",
       "NCP                             0.071747  0.059022    0.062796  \n",
       "CAEC                            0.015833 -0.062877    0.304570  \n",
       "SMOKE                           0.082471  0.021045    0.009252  \n",
       "CH2O                            0.091386 -0.035638   -0.152567  \n",
       "SCC                             0.003463 -0.012794    0.154936  \n",
       "FAF                            -0.086799  0.036098    0.159263  \n",
       "TUE                            -0.045864 -0.165571    0.087560  \n",
       "CALC                            1.000000 -0.025492   -0.087673  \n",
       "MTRANS                         -0.025492  1.000000    0.017934  \n",
       "NObeyesdad                     -0.087673  0.017934    1.000000  "
      ]
     },
     "execution_count": 13,
     "metadata": {},
     "output_type": "execute_result"
    }
   ],
   "source": [
    "corr_matrix = data_df.corr()\n",
    "corr_matrix"
   ]
  },
  {
   "cell_type": "code",
   "execution_count": 14,
   "metadata": {
    "colab": {
     "base_uri": "https://localhost:8080/"
    },
    "id": "xXO3e0Ys3bEr",
    "outputId": "2568b2be-0246-470d-b2ed-f576c54cb42e"
   },
   "outputs": [
    {
     "data": {
      "text/plain": [
       "NObeyesdad                        1.000000\n",
       "family_history_with_overweight    0.459742\n",
       "CAEC                              0.304570\n",
       "FAF                               0.159263\n",
       "SCC                               0.154936\n",
       "TUE                               0.087560\n",
       "NCP                               0.062796\n",
       "Gender                            0.025778\n",
       "MTRANS                            0.017934\n",
       "SMOKE                             0.009252\n",
       "Height                           -0.064963\n",
       "FCVC                             -0.073456\n",
       "CALC                             -0.087673\n",
       "CH2O                             -0.152567\n",
       "Age                              -0.247464\n",
       "FAVC                             -0.278537\n",
       "Weight                           -0.741384\n",
       "Name: NObeyesdad, dtype: float64"
      ]
     },
     "execution_count": 14,
     "metadata": {},
     "output_type": "execute_result"
    }
   ],
   "source": [
    "corr_matrix['NObeyesdad'].sort_values(ascending=False)"
   ]
  },
  {
   "cell_type": "code",
   "execution_count": 15,
   "metadata": {
    "colab": {
     "base_uri": "https://localhost:8080/",
     "height": 204
    },
    "id": "q9WWeR9q0Hrx",
    "outputId": "9cce2a0a-4433-4c8f-b8ea-fdc996e056d8"
   },
   "outputs": [
    {
     "data": {
      "text/html": [
       "<div>\n",
       "<style scoped>\n",
       "    .dataframe tbody tr th:only-of-type {\n",
       "        vertical-align: middle;\n",
       "    }\n",
       "\n",
       "    .dataframe tbody tr th {\n",
       "        vertical-align: top;\n",
       "    }\n",
       "\n",
       "    .dataframe thead th {\n",
       "        text-align: right;\n",
       "    }\n",
       "</style>\n",
       "<table border=\"1\" class=\"dataframe\">\n",
       "  <thead>\n",
       "    <tr style=\"text-align: right;\">\n",
       "      <th></th>\n",
       "      <th>Age</th>\n",
       "      <th>Weight</th>\n",
       "      <th>family_history_with_overweight</th>\n",
       "      <th>FAVC</th>\n",
       "      <th>CAEC</th>\n",
       "      <th>NObeyesdad</th>\n",
       "    </tr>\n",
       "  </thead>\n",
       "  <tbody>\n",
       "    <tr>\n",
       "      <th>0</th>\n",
       "      <td>21.0</td>\n",
       "      <td>64.0</td>\n",
       "      <td>0</td>\n",
       "      <td>0</td>\n",
       "      <td>0</td>\n",
       "      <td>6</td>\n",
       "    </tr>\n",
       "    <tr>\n",
       "      <th>1</th>\n",
       "      <td>21.0</td>\n",
       "      <td>56.0</td>\n",
       "      <td>0</td>\n",
       "      <td>0</td>\n",
       "      <td>0</td>\n",
       "      <td>6</td>\n",
       "    </tr>\n",
       "    <tr>\n",
       "      <th>2</th>\n",
       "      <td>23.0</td>\n",
       "      <td>77.0</td>\n",
       "      <td>0</td>\n",
       "      <td>0</td>\n",
       "      <td>0</td>\n",
       "      <td>6</td>\n",
       "    </tr>\n",
       "    <tr>\n",
       "      <th>3</th>\n",
       "      <td>27.0</td>\n",
       "      <td>87.0</td>\n",
       "      <td>1</td>\n",
       "      <td>0</td>\n",
       "      <td>0</td>\n",
       "      <td>4</td>\n",
       "    </tr>\n",
       "    <tr>\n",
       "      <th>4</th>\n",
       "      <td>22.0</td>\n",
       "      <td>89.8</td>\n",
       "      <td>1</td>\n",
       "      <td>0</td>\n",
       "      <td>0</td>\n",
       "      <td>5</td>\n",
       "    </tr>\n",
       "  </tbody>\n",
       "</table>\n",
       "</div>"
      ],
      "text/plain": [
       "    Age  Weight  family_history_with_overweight  FAVC  CAEC  NObeyesdad\n",
       "0  21.0    64.0                               0     0     0           6\n",
       "1  21.0    56.0                               0     0     0           6\n",
       "2  23.0    77.0                               0     0     0           6\n",
       "3  27.0    87.0                               1     0     0           4\n",
       "4  22.0    89.8                               1     0     0           5"
      ]
     },
     "execution_count": 15,
     "metadata": {},
     "output_type": "execute_result"
    }
   ],
   "source": [
    "data_new=data_df.drop(['CH2O','CALC','FCVC','Height','SMOKE','MTRANS','Gender','NCP','TUE','SCC','FAF'],axis=1)\n",
    "data_new.head()"
   ]
  },
  {
   "cell_type": "code",
   "execution_count": 16,
   "metadata": {
    "id": "vQWnVE7v5fgp"
   },
   "outputs": [],
   "source": [
    "X=data_new.drop('NObeyesdad',axis=1)\n",
    "Y=data_new['NObeyesdad']\n"
   ]
  },
  {
   "cell_type": "code",
   "execution_count": 17,
   "metadata": {
    "colab": {
     "base_uri": "https://localhost:8080/",
     "height": 204
    },
    "id": "eexbJq9AQlZ3",
    "outputId": "843a2c3d-f61b-4bfd-ed7f-0cd23f59cbbf"
   },
   "outputs": [
    {
     "data": {
      "text/html": [
       "<div>\n",
       "<style scoped>\n",
       "    .dataframe tbody tr th:only-of-type {\n",
       "        vertical-align: middle;\n",
       "    }\n",
       "\n",
       "    .dataframe tbody tr th {\n",
       "        vertical-align: top;\n",
       "    }\n",
       "\n",
       "    .dataframe thead th {\n",
       "        text-align: right;\n",
       "    }\n",
       "</style>\n",
       "<table border=\"1\" class=\"dataframe\">\n",
       "  <thead>\n",
       "    <tr style=\"text-align: right;\">\n",
       "      <th></th>\n",
       "      <th>Age</th>\n",
       "      <th>Weight</th>\n",
       "      <th>family_history_with_overweight</th>\n",
       "      <th>FAVC</th>\n",
       "      <th>CAEC</th>\n",
       "    </tr>\n",
       "  </thead>\n",
       "  <tbody>\n",
       "    <tr>\n",
       "      <th>0</th>\n",
       "      <td>21.0</td>\n",
       "      <td>64.0</td>\n",
       "      <td>0</td>\n",
       "      <td>0</td>\n",
       "      <td>0</td>\n",
       "    </tr>\n",
       "    <tr>\n",
       "      <th>1</th>\n",
       "      <td>21.0</td>\n",
       "      <td>56.0</td>\n",
       "      <td>0</td>\n",
       "      <td>0</td>\n",
       "      <td>0</td>\n",
       "    </tr>\n",
       "    <tr>\n",
       "      <th>2</th>\n",
       "      <td>23.0</td>\n",
       "      <td>77.0</td>\n",
       "      <td>0</td>\n",
       "      <td>0</td>\n",
       "      <td>0</td>\n",
       "    </tr>\n",
       "    <tr>\n",
       "      <th>3</th>\n",
       "      <td>27.0</td>\n",
       "      <td>87.0</td>\n",
       "      <td>1</td>\n",
       "      <td>0</td>\n",
       "      <td>0</td>\n",
       "    </tr>\n",
       "    <tr>\n",
       "      <th>4</th>\n",
       "      <td>22.0</td>\n",
       "      <td>89.8</td>\n",
       "      <td>1</td>\n",
       "      <td>0</td>\n",
       "      <td>0</td>\n",
       "    </tr>\n",
       "  </tbody>\n",
       "</table>\n",
       "</div>"
      ],
      "text/plain": [
       "    Age  Weight  family_history_with_overweight  FAVC  CAEC\n",
       "0  21.0    64.0                               0     0     0\n",
       "1  21.0    56.0                               0     0     0\n",
       "2  23.0    77.0                               0     0     0\n",
       "3  27.0    87.0                               1     0     0\n",
       "4  22.0    89.8                               1     0     0"
      ]
     },
     "execution_count": 17,
     "metadata": {},
     "output_type": "execute_result"
    }
   ],
   "source": [
    "X.head()"
   ]
  },
  {
   "cell_type": "code",
   "execution_count": 18,
   "metadata": {
    "colab": {
     "base_uri": "https://localhost:8080/"
    },
    "id": "mCt4pelG6DN1",
    "outputId": "75a463ce-f57e-480f-83a0-0657aab57ff2"
   },
   "outputs": [
    {
     "data": {
      "text/plain": [
       "0    6\n",
       "1    6\n",
       "2    6\n",
       "3    4\n",
       "4    5\n",
       "Name: NObeyesdad, dtype: int64"
      ]
     },
     "execution_count": 18,
     "metadata": {},
     "output_type": "execute_result"
    }
   ],
   "source": [
    "Y.head()"
   ]
  },
  {
   "cell_type": "code",
   "execution_count": 19,
   "metadata": {
    "id": "WNyjLzwx9IYQ"
   },
   "outputs": [],
   "source": [
    "from sklearn.preprocessing import MinMaxScaler,StandardScaler"
   ]
  },
  {
   "cell_type": "code",
   "execution_count": 20,
   "metadata": {
    "id": "npdG7Xwg9Pu6"
   },
   "outputs": [],
   "source": [
    "#scale=MinMaxScaler()\n",
    "#X=scale.fit_transform(X)\n"
   ]
  },
  {
   "cell_type": "code",
   "execution_count": 21,
   "metadata": {
    "id": "EM7YYdzy_ndM"
   },
   "outputs": [],
   "source": [
    "Xtrain,Xtest,Ytrain,Ytest = train_test_split(X,Y,test_size=0.2,random_state=42)\n"
   ]
  },
  {
   "cell_type": "code",
   "execution_count": 22,
   "metadata": {
    "colab": {
     "base_uri": "https://localhost:8080/"
    },
    "id": "xnLj5YWw_-pz",
    "outputId": "0caebd4f-b0c8-4124-e50e-ff8649ea738c"
   },
   "outputs": [
    {
     "data": {
      "text/plain": [
       "(1688, 5)"
      ]
     },
     "execution_count": 22,
     "metadata": {},
     "output_type": "execute_result"
    }
   ],
   "source": [
    "Xtrain.shape"
   ]
  },
  {
   "cell_type": "code",
   "execution_count": 23,
   "metadata": {
    "colab": {
     "base_uri": "https://localhost:8080/"
    },
    "id": "FYouXV_bACKX",
    "outputId": "1d2d7858-62a3-4262-fc9e-b76c94576410"
   },
   "outputs": [
    {
     "data": {
      "text/plain": [
       "(423, 5)"
      ]
     },
     "execution_count": 23,
     "metadata": {},
     "output_type": "execute_result"
    }
   ],
   "source": [
    "Xtest.shape"
   ]
  },
  {
   "cell_type": "code",
   "execution_count": 24,
   "metadata": {
    "colab": {
     "base_uri": "https://localhost:8080/"
    },
    "id": "KyNpRTArAGXt",
    "outputId": "53d145ab-f57a-4b9a-d9c3-377de0cb5464"
   },
   "outputs": [
    {
     "data": {
      "text/plain": [
       "(1688,)"
      ]
     },
     "execution_count": 24,
     "metadata": {},
     "output_type": "execute_result"
    }
   ],
   "source": [
    "Ytrain.shape"
   ]
  },
  {
   "cell_type": "code",
   "execution_count": 25,
   "metadata": {
    "colab": {
     "base_uri": "https://localhost:8080/"
    },
    "id": "mPzfahrOAM-6",
    "outputId": "53d3309b-b42d-4572-ea9b-c5eeca1f3a21"
   },
   "outputs": [
    {
     "data": {
      "text/plain": [
       "(423,)"
      ]
     },
     "execution_count": 25,
     "metadata": {},
     "output_type": "execute_result"
    }
   ],
   "source": [
    "Ytest.shape"
   ]
  },
  {
   "cell_type": "code",
   "execution_count": 26,
   "metadata": {
    "colab": {
     "base_uri": "https://localhost:8080/"
    },
    "id": "plcplCwbBMDK",
    "outputId": "83c1e513-ed21-40ea-8b7e-fb88dc1b2dd2"
   },
   "outputs": [
    {
     "data": {
      "text/plain": [
       "DecisionTreeRegressor()"
      ]
     },
     "execution_count": 26,
     "metadata": {},
     "output_type": "execute_result"
    }
   ],
   "source": [
    "from sklearn.tree import DecisionTreeRegressor\n",
    "tree_reg = DecisionTreeRegressor()\n",
    "tree_reg.fit(Xtest,Ytest)"
   ]
  },
  {
   "cell_type": "code",
   "execution_count": null,
   "metadata": {
    "colab": {
     "base_uri": "https://localhost:8080/"
    },
    "id": "2FvwttrXCvWi",
    "outputId": "27a3451f-3d44-46dd-da7e-b561adaf820b"
   },
   "outputs": [],
   "source": []
  },
  {
   "cell_type": "code",
   "execution_count": 27,
   "metadata": {
    "id": "SYLhN38ORnT7"
   },
   "outputs": [],
   "source": [
    "y_pred = tree_reg.predict(Xtest)"
   ]
  },
  {
   "cell_type": "code",
   "execution_count": 28,
   "metadata": {
    "id": "tc2qL3eQ7gTb"
   },
   "outputs": [],
   "source": [
    "from sklearn.metrics import r2_score\n",
    "score = r2_score(Ytest,y_pred)\n"
   ]
  },
  {
   "cell_type": "code",
   "execution_count": 29,
   "metadata": {
    "colab": {
     "base_uri": "https://localhost:8080/"
    },
    "id": "rXdGqMQ4R1nm",
    "outputId": "872480b7-9dbc-44af-9128-8b8f66dd43c5"
   },
   "outputs": [
    {
     "data": {
      "text/plain": [
       "0.9988891019058599"
      ]
     },
     "execution_count": 29,
     "metadata": {},
     "output_type": "execute_result"
    }
   ],
   "source": [
    "score"
   ]
  },
  {
   "cell_type": "code",
   "execution_count": 30,
   "metadata": {
    "id": "2Tz_B2ZaRMy4"
   },
   "outputs": [],
   "source": [
    "import pickle\n",
    "Pkl_Filename = \"obessity_classifier.pkl\"  \n",
    "\n",
    "with open(Pkl_Filename, 'wb') as file:  \n",
    "    pickle.dump(tree_reg, file)"
   ]
  },
  {
   "cell_type": "code",
   "execution_count": 31,
   "metadata": {
    "id": "TVGLV-IMT3rL"
   },
   "outputs": [
    {
     "data": {
      "text/plain": [
       "array([6, 4, 5, 1, 7, 3, 2], dtype=int64)"
      ]
     },
     "execution_count": 31,
     "metadata": {},
     "output_type": "execute_result"
    }
   ],
   "source": [
    "Y.unique()"
   ]
  },
  {
   "cell_type": "code",
   "execution_count": 32,
   "metadata": {},
   "outputs": [
    {
     "data": {
      "text/plain": [
       "['Age', 'Weight', 'family_history_with_overweight', 'FAVC', 'CAEC']"
      ]
     },
     "execution_count": 32,
     "metadata": {},
     "output_type": "execute_result"
    }
   ],
   "source": [
    "X.columns.tolist()"
   ]
  },
  {
   "cell_type": "code",
   "execution_count": 33,
   "metadata": {},
   "outputs": [
    {
     "name": "stdout",
     "output_type": "stream",
     "text": [
      "<class 'pandas.core.frame.DataFrame'>\n",
      "RangeIndex: 2111 entries, 0 to 2110\n",
      "Data columns (total 5 columns):\n",
      " #   Column                          Non-Null Count  Dtype  \n",
      "---  ------                          --------------  -----  \n",
      " 0   Age                             2111 non-null   float64\n",
      " 1   Weight                          2111 non-null   float64\n",
      " 2   family_history_with_overweight  2111 non-null   int64  \n",
      " 3   FAVC                            2111 non-null   int64  \n",
      " 4   CAEC                            2111 non-null   int64  \n",
      "dtypes: float64(2), int64(3)\n",
      "memory usage: 82.6 KB\n"
     ]
    }
   ],
   "source": [
    "X.info()"
   ]
  },
  {
   "cell_type": "code",
   "execution_count": 34,
   "metadata": {},
   "outputs": [
    {
     "data": {
      "text/plain": [
       "array([0, 1], dtype=int64)"
      ]
     },
     "execution_count": 34,
     "metadata": {},
     "output_type": "execute_result"
    }
   ],
   "source": [
    "X.family_history_with_overweight.unique()"
   ]
  }
 ],
 "metadata": {
  "colab": {
   "collapsed_sections": [],
   "name": "Clinical Decision Support System Project",
   "provenance": []
  },
  "kernelspec": {
   "display_name": "Python 3",
   "language": "python",
   "name": "python3"
  },
  "language_info": {
   "codemirror_mode": {
    "name": "ipython",
    "version": 3
   },
   "file_extension": ".py",
   "mimetype": "text/x-python",
   "name": "python",
   "nbconvert_exporter": "python",
   "pygments_lexer": "ipython3",
   "version": "3.8.5"
  }
 },
 "nbformat": 4,
 "nbformat_minor": 1
}
